{
 "cells": [
  {
   "cell_type": "markdown",
   "id": "8061d9c8-da02-4986-8b85-3b6495e0512a",
   "metadata": {},
   "source": [
    "# Finite Field Definition"
   ]
  },
  {
   "cell_type": "markdown",
   "id": "0d8c362f-81b4-49e2-bab6-5406455d3beb",
   "metadata": {},
   "source": [
    "Mathematically, a finite field is defined as a finite set of numbers that satisfy the following:\n",
    "\n",
    "- If a and b are in the set, a + b, a ⋅ b, a -b and a / b are in the set. We call this property closed.\n",
    "\n",
    "- 0 exists and has the property a + 0 = a. We call this the additive identity.\n",
    "\n",
    "- 1 exists and has the property a ⋅ 1 = a. We call this the multiplicative identity.\n",
    "\n",
    "- If a is in the set, –a is in the set, which is defined as the value that makes a + (–a) = 0. This is what we call the additive inverse.\n",
    "\n",
    "- If a is in the set and is not 0, a<sup>-1</sup> is in the set, which is defined as the value that makes a ⋅ a<sup>-1</sup> = 1. This is what we call the multiplicative inverse."
   ]
  },
  {
   "cell_type": "markdown",
   "id": "932fea44-d8bf-4aed-b910-78ca79caa6a2",
   "metadata": {},
   "source": [
    "## Defining Finite Sets"
   ]
  },
  {
   "cell_type": "markdown",
   "id": "084097f6-f78d-46d2-944f-ea454d849a3a",
   "metadata": {},
   "source": [
    "If the size (mathematicians call order) of the set is p, we can call the elements of the set, 0, 1, 2, … p – 1. These numbers are what we call the elements of the set.\n",
    "\n",
    "In math notation the finite field set looks like this:\n",
    "\n",
    "F<sub>p</sub> = {0, 1, 2, ... p–1}\n",
    "\n",
    "A finite field of order 11 looks like this:\n",
    "\n",
    "F<sub>11</sub> = {0, 1, 2, 3, 4, 5, 6, 7, 8, 9, 10}\n",
    "    \n",
    "*P have to be a prime number*\n"
   ]
  },
  {
   "cell_type": "markdown",
   "id": "fc4645b3-8dd5-4609-95b9-48668c34fcc7",
   "metadata": {},
   "source": [
    "## Finite Field Addition and Subtraction"
   ]
  },
  {
   "cell_type": "markdown",
   "id": "867fb5d7-d05b-4c25-87d5-99b351d32482",
   "metadata": {},
   "source": [
    "\n",
    "**Addition**\n",
    "\n",
    "a + <sub>f</sub>b = (a + b) % p\n",
    "\n",
    "For example:\n",
    "\n",
    "8 + <sub>f</sub>9 = (8 + 9) % 11 => 17 % 11 = 6\n",
    "\n",
    "**Subtraction**\n",
    "\n",
    "a - <sub>f</sub>b = (a - b) % p\n",
    "\n",
    "For example:\n",
    "\n",
    "8 - <sub>f</sub>9 = (8 - 9) % 11 => -1 % 11 = 10\n",
    "\n",
    "**Additive Inverse**\n",
    "\n",
    "–<sub>f</sub>a = (–a) % p\n",
    "\n",
    "For example:\n",
    "\n",
    "-<sub>f</sub>9 = (-9) % 11 = 2\n"
   ]
  },
  {
   "cell_type": "markdown",
   "id": "4b840e38-0433-4fde-8e9e-df9f2ece2ee6",
   "metadata": {},
   "source": [
    "## Finite Field Multiplication and Exponentiation"
   ]
  },
  {
   "cell_type": "markdown",
   "id": "8b8b310a-34cf-4467-bf13-170a5e8f8933",
   "metadata": {},
   "source": [
    "**Multiplication is adding multiple times**\n",
    "\n",
    "5 ⋅ 3 = 5 + 5 + 5 = 15\n",
    "\n",
    "5 + <sub>f</sub>5+ <sub>f</sub>5  = (5 + 5 + 5) % 11 => 15 % 11 = 4\n",
    "\n",
    "so we can use it directly\n",
    "\n",
    "5 ⋅ <sub>f</sub>3 = ( 5 . 3 ) % 11 => 15 % 11 = 4\n",
    "\n",
    "**Exponentiation is simply multiplying a number many times**\n",
    "\n",
    "7<sup>3</sup> =7 ⋅ <sub>f</sub>7 ⋅ <sub>f</sub>7 = 343\n",
    "\n",
    "7<sup>3</sup> = 343 % 11 = 2\n",
    "\n",
    "9<sup>12</sup> = 282429536481 % 11 = 4\n"
   ]
  },
  {
   "cell_type": "markdown",
   "id": "af26c379-6bf7-4d63-bfa1-cb8fc2ab4b7c",
   "metadata": {},
   "source": [
    "## Finite Field Division"
   ]
  },
  {
   "cell_type": "markdown",
   "id": "75f3c61f-0124-4a01-8d02-6596f52b1698",
   "metadata": {},
   "source": [
    "*In normal math, division is the inverse of multiplication*\n",
    "    \n",
    "7 ⋅ 8 = 56 <=>  56  /  8 = 7 or  58  /  7  =  8\n",
    "\n",
    "12 ⋅ 2 = 24  <=> 24 / 12 = 2 or 24 / 2 = 12\n",
    "\n",
    "*We can use this as the definition of division and Finite Field Multiplication to help us*\n",
    "\n",
    "3 ⋅ <sub>f</sub>7 = 21 % 11 = 10 <=>  10 / <sub>f</sub>7 = 3 or 10 / <sub>f</sub>3 = 7\n",
    "\n",
    "9 ⋅ <sub>f</sub>5 = 45 % 11 = 1 <=> 1 / <sub>f</sub>5 = 9 or 1 / <sub>f</sub>9 = 5\n",
    "\n",
    "**But, how do I calculate 10/<sub>f</sub>7 or 10/<sub>f</sub>3 if I don’t know beforehand that 3⋅f7 = 10?**\n",
    "\n",
    "*to answer it, we are going to find another solution for finite field division with the help of [Litte Theorm](https://en.wikipedia.org/wiki/Fermat%27s_little_theorem)*\n",
    "\n",
    "In Little Theorm we have n<sup>(p-1)</sup> % p = 1 if p as prime number nad n > 0\n",
    "\n",
    "a / b = a . b<sup>-1</sup> as we mintioned division is the inverse of multiplication\n",
    "\n",
    "if we multiply one with b<sup>-1</sup> we have b<sup>-1</sup> . 1 and we have know that n<sup>(p-1)</sup>  = 1 so \n",
    "\n",
    "b<sup>-1</sup> = b<sup>-1</sup> . 1 = b<sup>-1</sup> . b<sup>(p-1)</sup> = b<sup>-1 + p -1 </sup> = b<sup>p -2 </sup> so \n",
    "\n",
    "b<sup>-1</sup> = b<sup>p -2 </sup>\n",
    "\n",
    "a / b = a . ( 1 / b ) = a . b<sup>-1</sup> = a . b<sup>p -2 </sup>\n",
    "\n",
    "example:\n",
    "\n",
    "10/<sub>f</sub>3 = 10 . 3<sup>11-2</sup> = 10 . 3<sup>9</sup> = 10 . <sub>f</sub>19683 = (10 . 19683) % 11 = 7\n",
    "\n",
    "\n",
    "\n",
    "\n",
    "\n"
   ]
  },
  {
   "cell_type": "markdown",
   "id": "d62c8dce-efd0-442a-a296-a742eab8a5a4",
   "metadata": {},
   "source": [
    "**Solve the following equations in F31**\n",
    "\n",
    "• 3 / 24\n",
    "\n",
    "• 17<sup>–3</sup>\n",
    "\n",
    "• 4<sup>–4</sup> ⋅ 11"
   ]
  },
  {
   "cell_type": "markdown",
   "id": "630a5a64-34bb-4884-93c6-16bf439a9840",
   "metadata": {},
   "source": [
    "3 / 24 = 3 . 24<sup>31-2</sup> = 3 . 24<sup>29</sup> = 3 . <sub>f</sub>10620036506406716776157242913621199028224 = (3 .10620036506406716776157242913621199028224) % 31 = 4\n",
    "\n",
    "17<sup>–3</sup> = 17<sup>31–4</sup> = 17<sup>27</sup> % 31 = 29\n",
    "\n",
    "11 . 4<sup>–4</sup> = 11 . 4<sup>31–5</sup> = 11 . 4<sup>26</sup> = (11 . 4503599627370496) % 11 = 0\n"
   ]
  }
 ],
 "metadata": {
  "kernelspec": {
   "display_name": "Python 3 (ipykernel)",
   "language": "python",
   "name": "python3"
  },
  "language_info": {
   "codemirror_mode": {
    "name": "ipython",
    "version": 3
   },
   "file_extension": ".py",
   "mimetype": "text/x-python",
   "name": "python",
   "nbconvert_exporter": "python",
   "pygments_lexer": "ipython3",
   "version": "3.11.4"
  }
 },
 "nbformat": 4,
 "nbformat_minor": 5
}
